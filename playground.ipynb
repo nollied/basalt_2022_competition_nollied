{
 "cells": [
  {
   "cell_type": "code",
   "execution_count": 1,
   "metadata": {},
   "outputs": [],
   "source": [
    "# %env MINERL_DATA_ROOT=/Volumes/CORSAIR/data"
   ]
  },
  {
   "cell_type": "code",
   "execution_count": 2,
   "metadata": {},
   "outputs": [
    {
     "name": "stderr",
     "output_type": "stream",
     "text": [
      "WARNING: CPU random generator seem to be failing, disabling hardware random number generation\n",
      "WARNING: RDRND generated: 0xffffffff 0xffffffff 0xffffffff 0xffffffff\n",
      "/home/nollyd/anaconda3/envs/minerl/lib/python3.10/site-packages/tqdm/auto.py:22: TqdmWarning: IProgress not found. Please update jupyter and ipywidgets. See https://ipywidgets.readthedocs.io/en/stable/user_install.html\n",
      "  from .autonotebook import tqdm as notebook_tqdm\n"
     ]
    }
   ],
   "source": [
    "import minerl  # NOTE: we need gym>=0.13.1,<0.20\n",
    "import gym\n",
    "from train import get_agent, get_dynamics_environment, FMC, get_data_handler\n",
    "from fgz.training.fgz_trainer import FGZTrainer\n",
    "import torch\n",
    "import wandb"
   ]
  },
  {
   "cell_type": "code",
   "execution_count": 3,
   "metadata": {},
   "outputs": [],
   "source": [
    "torch.cuda.empty_cache()  # fix memory leaks"
   ]
  },
  {
   "cell_type": "code",
   "execution_count": 4,
   "metadata": {},
   "outputs": [
    {
     "name": "stdout",
     "output_type": "stream",
     "text": [
      "Loading model data/VPT-models/foundation-model-1x.model\n",
      "with weights data/VPT-models/foundation-model-1x.weights\n"
     ]
    }
   ],
   "source": [
    "minerl_env = gym.make('MineRLBasaltBuildVillageHouse-v0')\n",
    "agent = get_agent()\n",
    "dynamics_env = get_dynamics_environment(minerl_env)"
   ]
  },
  {
   "cell_type": "code",
   "execution_count": null,
   "metadata": {},
   "outputs": [],
   "source": [
    "agent.device"
   ]
  },
  {
   "cell_type": "code",
   "execution_count": null,
   "metadata": {},
   "outputs": [],
   "source": [
    "# dynamics_env.batched_action_space_sample()"
   ]
  },
  {
   "cell_type": "code",
   "execution_count": null,
   "metadata": {},
   "outputs": [],
   "source": [
    "# dummy_initial_state = torch.ones(4096, dtype=float)\n",
    "# dynamics_env.set_all_states(dummy_initial_state)"
   ]
  },
  {
   "cell_type": "code",
   "execution_count": null,
   "metadata": {},
   "outputs": [],
   "source": [
    "data_handler = get_data_handler(agent)\n",
    "str(data_handler.loaders[0].trajectories[0])"
   ]
  },
  {
   "cell_type": "code",
   "execution_count": null,
   "metadata": {},
   "outputs": [],
   "source": [
    "# t = data_handler.sample_single_trajectory()\n",
    "# for window in t:\n",
    "#     print(len(window))\n",
    "#     for frame, state_embedding, action in window:\n",
    "#         print(state_embedding.shape)\n",
    "#         break\n",
    "#     break"
   ]
  },
  {
   "cell_type": "code",
   "execution_count": null,
   "metadata": {},
   "outputs": [],
   "source": [
    "dynamics_function_optimizer = torch.optim.Adam(\n",
    "    dynamics_env.dynamics_function.parameters(),\n",
    "    lr=0.0002,\n",
    "    weight_decay=1e-4,\n",
    ")"
   ]
  },
  {
   "cell_type": "code",
   "execution_count": null,
   "metadata": {},
   "outputs": [],
   "source": []
  },
  {
   "cell_type": "code",
   "execution_count": null,
   "metadata": {},
   "outputs": [],
   "source": [
    "use_wandb = True\n",
    "\n",
    "fmc = FMC(dynamics_env, freeze_best=True)\n",
    "trainer = FGZTrainer(agent, fmc, data_handler, dynamics_function_optimizer, unroll_steps=8, use_wandb=use_wandb)\n",
    "\n",
    "if use_wandb:\n",
    "    wandb.init(project=\"fgz-v0\")"
   ]
  },
  {
   "cell_type": "code",
   "execution_count": null,
   "metadata": {},
   "outputs": [],
   "source": [
    "# trainer.save(\"test_trainer_save.pth\")\n",
    "# loaded_trainer = FGZTrainer.load(\"test_trainer_save.pth\", agent)\n",
    "# loaded_trainer.evaluate(\"MineRLBasaltMakeWaterfall-v0\", render=True, max_steps=4096, force_no_escape=True)"
   ]
  },
  {
   "cell_type": "code",
   "execution_count": null,
   "metadata": {},
   "outputs": [],
   "source": [
    "# trainer.evaluate(\"MineRLBasaltMakeWaterfall-v0\", render=True, max_steps=4096, force_no_escape=True)"
   ]
  },
  {
   "cell_type": "code",
   "execution_count": null,
   "metadata": {},
   "outputs": [],
   "source": [
    "# trainer.eval_actions"
   ]
  },
  {
   "cell_type": "code",
   "execution_count": null,
   "metadata": {},
   "outputs": [],
   "source": [
    "train_steps = 1000\n",
    "for _ in range(train_steps):\n",
    "    trainer.train_sub_trajectory(use_tqdm=True)"
   ]
  },
  {
   "cell_type": "code",
   "execution_count": null,
   "metadata": {},
   "outputs": [],
   "source": [
    "trainer.save(\"fgz_dynamics_trained.pth\")"
   ]
  },
  {
   "cell_type": "code",
   "execution_count": 5,
   "metadata": {},
   "outputs": [],
   "source": [
    "trainer = FGZTrainer.load(\"fgz_dynamics_trained.pth\", agent)"
   ]
  },
  {
   "cell_type": "code",
   "execution_count": 6,
   "metadata": {},
   "outputs": [
    {
     "name": "stderr",
     "output_type": "stream",
     "text": [
      "2022-10-09 23:21:45 nollyd minerl.env.malmo.instance.3d4e4e[808347] INFO Starting Minecraft process: ['/home/nollyd/anaconda3/envs/minerl/lib/python3.10/site-packages/minerl/env/../MCP-Reborn/launchClient.sh', '-port', '12784', '-env', '-runDir', '/home/nollyd/anaconda3/envs/minerl/lib/python3.10/site-packages/minerl/env/../MCP-Reborn/run']\n",
      "2022-10-09 23:21:45 nollyd process_watcher[808347] INFO Launching process watcher daemonizer.\n",
      "WARNING: CPU random generator seem to be failing, disabling hardware random number generation\n",
      "WARNING: RDRND generated: 0xffffffff 0xffffffff 0xffffffff 0xffffffff\n",
      "/home/nollyd/anaconda3/envs/minerl/lib/python3.10/runpy.py:126: RuntimeWarning: 'minerl.utils.process_watcher' found in sys.modules after import of package 'minerl.utils', but prior to execution of 'minerl.utils.process_watcher'; this may result in unpredictable behaviour\n",
      "  warn(RuntimeWarning(msg))\n",
      "2022-10-09 23:21:46 nollyd process_watcher[808347] INFO Process watcher daemonizer launched successfully.\n",
      "2022-10-09 23:21:46 nollyd minerl.env.malmo.instance.3d4e4e[808347] DEBUG /home/nollyd/anaconda3/envs/minerl/lib/python3.10/site-packages/minerl/env/../MCP-Reborn\n",
      "2022-10-09 23:21:53 nollyd minerl.env.malmo.instance.3d4e4e[808347] DEBUG SLF4J: Failed to load class \"org.slf4j.impl.StaticLoggerBinder\".\n",
      "2022-10-09 23:21:53 nollyd minerl.env.malmo.instance.3d4e4e[808347] DEBUG SLF4J: Defaulting to no-operation (NOP) logger implementation\n",
      "2022-10-09 23:21:53 nollyd minerl.env.malmo.instance.3d4e4e[808347] DEBUG SLF4J: See http://www.slf4j.org/codes.html#StaticLoggerBinder for further details.\n",
      "2022-10-09 23:21:55 nollyd minerl.env.malmo.instance.3d4e4e[808347] DEBUG [23:21:55] [Render thread/INFO]: Environment: authHost='https://authserver.mojang.com', accountsHost='https://api.mojang.com', sessionHost='https://sessionserver.mojang.com', servicesHost='https://api.minecraftservices.com', name='PROD'\n",
      "2022-10-09 23:21:55 nollyd minerl.env.malmo.instance.3d4e4e[808347] ERROR [23:21:55] [Render thread/ERROR]: Failed to verify authentication!\n",
      "2022-10-09 23:21:55 nollyd minerl.env.malmo.instance.3d4e4e[808347] DEBUG [23:21:55] [Render thread/INFO]: Setting user: Player610\n",
      "2022-10-09 23:21:56 nollyd minerl.env.malmo.instance.3d4e4e[808347] DEBUG [23:21:56] [Render thread/INFO]: Backend library: LWJGL version 3.2.2 SNAPSHOT\n",
      "2022-10-09 23:21:57 nollyd minerl.env.malmo.instance.3d4e4e[808347] ERROR [23:21:57] [Render thread/WARN]: ERROR : Couldn't load Narrator library : Unable to load library 'fliteWrapper': Can't obtain InputStream for linux-x86-64/libfliteWrapper.so\n",
      "2022-10-09 23:21:57 nollyd minerl.env.malmo.instance.3d4e4e[808347] DEBUG [23:21:57] [Render thread/INFO]: Reloading ResourceManager: Default\n",
      "2022-10-09 23:21:57 nollyd minerl.env.malmo.instance.3d4e4e[808347] DEBUG [23:21:57] [Realms Notification Availability checker #1/INFO]: Could not authorize you against Realms server: Invalid session id\n",
      "2022-10-09 23:21:59 nollyd minerl.env.malmo.instance.3d4e4e[808347] DEBUG [23:21:59] [Render thread/INFO]: OpenAL initialized.\n",
      "2022-10-09 23:21:59 nollyd minerl.env.malmo.instance.3d4e4e[808347] DEBUG [23:21:59] [Render thread/INFO]: Sound engine started\n",
      "2022-10-09 23:21:59 nollyd minerl.env.malmo.instance.3d4e4e[808347] DEBUG [23:21:59] [Render thread/INFO]: Created: 1024x1024x4 minecraft:textures/atlas/blocks.png-atlas\n",
      "2022-10-09 23:21:59 nollyd minerl.env.malmo.instance.3d4e4e[808347] DEBUG [23:21:59] [Render thread/INFO]: Created: 256x128x4 minecraft:textures/atlas/signs.png-atlas\n",
      "2022-10-09 23:21:59 nollyd minerl.env.malmo.instance.3d4e4e[808347] DEBUG [23:21:59] [Render thread/INFO]: Created: 1024x512x4 minecraft:textures/atlas/banner_patterns.png-atlas\n",
      "2022-10-09 23:21:59 nollyd minerl.env.malmo.instance.3d4e4e[808347] DEBUG [23:21:59] [Render thread/INFO]: Created: 1024x512x4 minecraft:textures/atlas/shield_patterns.png-atlas\n",
      "2022-10-09 23:21:59 nollyd minerl.env.malmo.instance.3d4e4e[808347] DEBUG [23:21:59] [Render thread/INFO]: Created: 256x256x4 minecraft:textures/atlas/chest.png-atlas\n",
      "2022-10-09 23:21:59 nollyd minerl.env.malmo.instance.3d4e4e[808347] DEBUG [23:21:59] [Render thread/INFO]: Created: 512x256x4 minecraft:textures/atlas/beds.png-atlas\n",
      "2022-10-09 23:21:59 nollyd minerl.env.malmo.instance.3d4e4e[808347] DEBUG [23:21:59] [Render thread/INFO]: Created: 512x256x4 minecraft:textures/atlas/shulker_boxes.png-atlas\n",
      "2022-10-09 23:21:59 nollyd minerl.env.malmo.instance.3d4e4e[808347] DEBUG [23:21:59] [Render thread/INFO]: Created: 256x256x0 minecraft:textures/atlas/particles.png-atlas\n",
      "2022-10-09 23:21:59 nollyd minerl.env.malmo.instance.3d4e4e[808347] DEBUG [23:21:59] [Render thread/INFO]: Created: 256x256x0 minecraft:textures/atlas/paintings.png-atlas\n",
      "2022-10-09 23:21:59 nollyd minerl.env.malmo.instance.3d4e4e[808347] DEBUG [23:21:59] [Render thread/INFO]: Created: 256x128x0 minecraft:textures/atlas/mob_effects.png-atlas\n",
      "2022-10-09 23:22:00 nollyd minerl.env.malmo.instance.3d4e4e[808347] DEBUG [23:22:00] [Thread-4/INFO]: [STDOUT]: ***** Start MalmoEnvServer on port 12784\n",
      "2022-10-09 23:22:00 nollyd minerl.env.malmo.instance.3d4e4e[808347] DEBUG [23:22:00] [Thread-4/INFO]: [STDOUT]: CLIENT enter state: DORMANT\n",
      "2022-10-09 23:22:00 nollyd minerl.env.malmo.instance.3d4e4e[808347] INFO Minecraft process ready\n",
      "2022-10-09 23:22:00 nollyd minerl.env.malmo[808347] INFO Logging output of Minecraft to ./logs/mc_3784.log\n",
      "2022-10-09 23:22:00 nollyd minerl.env._multiagent[808347] DEBUG Creating socket connection Malmo[None:3d4e4e, proc=808481, addr=localhost:12784, locked=True]\n",
      "2022-10-09 23:22:00 nollyd minerl.env.malmo.instance.3d4e4e[808347] DEBUG [23:22:00] [Thread-4/INFO]: [STDOUT]: SERVER enter state: DORMANT\n",
      "2022-10-09 23:22:00 nollyd minerl.env._multiagent[808347] DEBUG Saying hello for client: Malmo[None:3d4e4e, proc=808481, addr=localhost:12784, locked=True]\n",
      "2022-10-09 23:22:00 nollyd minerl.env._multiagent[808347] INFO Attempting to quit: Malmo[None:3d4e4e, proc=808481, addr=localhost:12784, locked=True]\n",
      "2022-10-09 23:22:00 nollyd minerl.env._multiagent[808347] DEBUG Sending mission init: Malmo[None:3d4e4e, proc=808481, addr=localhost:12784, locked=True]\n",
      "2022-10-09 23:22:00 nollyd minerl.env.malmo.instance.3d4e4e[808347] DEBUG [23:22:00] [EnvServerSocketHandler/INFO]: Received Mission token 5021a813-87c3-446d-9d20-80ff99182f6b:0:0:1:true\n",
      "2022-10-09 23:22:00 nollyd minerl.env.malmo.instance.3d4e4e[808347] DEBUG [23:22:00] [EnvServerSocketHandler/INFO]: Received mission init command  <MissionInit xmlns=\"http://ProjectMalmo.microsoft.com\" xmlns:xsi=\"http://www.w3.org/2001/XMLSchema-instance\" SchemaVersion=\"\" PlatformVersion=\"0.37.0\"><Mission><About><Summary>MineRLBasaltMakeWaterfall-v0</Summary></About><ModSettings><MsPerTick>50</MsPerTick></ModSettings><ServerSection><ServerInitialConditions><Time><AllowPassageOfTime>false</AllowPassageOfTime></Time><AllowSpawning>true</AllowSpawning></ServerInitialConditions><ServerHandlers><DefaultWorldGenerator forceReset=\"true\" generatorOptions=\"{}\"/><ServerQuitFromTimeUp timeLimitMs=\"300000\" description=\"out_of_time\"/><ServerQuitWhenAnyAgentFinishes/></ServerHandlers></ServerSection><AgentSection mode=\"Survival\"><Name>MineRLAgent0</Name><AgentStart><LowLevelInputs>true</LowLevelInputs><GuiScale>1.0</GuiScale><GammaSetting>2.0</GammaSetting><FOVSetting>70.0</FOVSetting><FakeCursorSize>16</FakeCursorSize><Inventory><InventoryObject slot=\"0\" type=\"water_bucket\" quantity=\"1\"/><InventoryObject slot=\"1\" type=\"cobblestone\" quantity=\"20\"/><InventoryObject slot=\"2\" type=\"stone_shovel\" quantity=\"1\"/><InventoryObject slot=\"3\" type=\"stone_pickaxe\" quantity=\"1\"/></Inventory><PreferredSpawnBiome>extreme_hills</PreferredSpawnBiome><DoneOnDeath>true</DoneOnDeath></AgentStart><AgentHandlers><FileBasedPerformanceProducer/><PauseCommand/><VideoProducer want_depth=\"false\"><Width>640</Width><Height>360</Height></VideoProducer><HumanLevelCommands/><CameraCommands/></AgentHandlers></AgentSection></Mission><ExperimentUID>5021a813-87c3-446d-9d20-80ff99182f6b</ExperimentUID><ClientRole>0</ClientRole><ClientAgentConnection><ClientIPAddress>127.0.0.1</ClientIPAddress><ClientMissionControlPort>0</ClientMissionControlPort><ClientCommandsPort>0</ClientCommandsPort><AgentIPAddress>127.0.0.1</AgentIPAddress><AgentMissionControlPort>0</AgentMissionControlPort><AgentVideoPort>0</AgentVideoPort><AgentDepthPort>0</AgentDepthPort><AgentLuminancePort>0</AgentLuminancePort><AgentObservationsPort>0</AgentObservationsPort><AgentRewardsPort>0</AgentRewardsPort><AgentColourMapPort>0</AgentColourMapPort></ClientAgentConnection></MissionInit>\n",
      "2022-10-09 23:22:01 nollyd minerl.env.malmo.instance.3d4e4e[808347] DEBUG [23:22:01] [EnvServerSocketHandler/INFO]: [STDOUT]: Setting width, height to 640, 360\n",
      "2022-10-09 23:22:01 nollyd minerl.env.malmo.instance.3d4e4e[808347] DEBUG [23:22:01] [EnvServerSocketHandler/INFO]: [STDOUT]: Gamma: 2.0\n",
      "2022-10-09 23:22:01 nollyd minerl.env.malmo.instance.3d4e4e[808347] DEBUG [23:22:01] [EnvServerSocketHandler/INFO]: [STDOUT]: FOV: 70.0\n",
      "2022-10-09 23:22:01 nollyd minerl.env.malmo.instance.3d4e4e[808347] DEBUG [23:22:01] [EnvServerSocketHandler/INFO]: [STDOUT]: GuiScale: 1.0\n",
      "2022-10-09 23:22:01 nollyd minerl.env.malmo.instance.3d4e4e[808347] DEBUG [23:22:01] [Render thread/INFO]: [STDOUT]: Seed not provided, generating random one: 2307944839205475625\n",
      "2022-10-09 23:22:01 nollyd minerl.env.malmo.instance.3d4e4e[808347] WARNING [23:22:01] [Render thread/WARN]: Ambiguity between arguments [teleport, destination] and [teleport, targets] with inputs: [Player, 0123, @e, dd12be42-52a9-4a91-a8a1-11c01849e498]\n",
      "2022-10-09 23:22:01 nollyd minerl.env.malmo.instance.3d4e4e[808347] WARNING [23:22:01] [Render thread/WARN]: Ambiguity between arguments [teleport, location] and [teleport, destination] with inputs: [0.1 -0.5 .9, 0 0 0]\n",
      "2022-10-09 23:22:01 nollyd minerl.env.malmo.instance.3d4e4e[808347] WARNING [23:22:01] [Render thread/WARN]: Ambiguity between arguments [teleport, location] and [teleport, targets] with inputs: [0.1 -0.5 .9, 0 0 0]\n",
      "2022-10-09 23:22:01 nollyd minerl.env.malmo.instance.3d4e4e[808347] WARNING [23:22:01] [Render thread/WARN]: Ambiguity between arguments [teleport, targets] and [teleport, destination] with inputs: [Player, 0123, dd12be42-52a9-4a91-a8a1-11c01849e498]\n",
      "2022-10-09 23:22:01 nollyd minerl.env.malmo.instance.3d4e4e[808347] WARNING [23:22:01] [Render thread/WARN]: Ambiguity between arguments [teleport, targets, location] and [teleport, targets, destination] with inputs: [0.1 -0.5 .9, 0 0 0]\n",
      "2022-10-09 23:22:01 nollyd minerl.env.malmo.instance.3d4e4e[808347] DEBUG [23:22:01] [Render thread/INFO]: Reloading ResourceManager: Default\n",
      "2022-10-09 23:22:01 nollyd minerl.env.malmo.instance.3d4e4e[808347] DEBUG [23:22:01] [Render thread/INFO]: Loaded 7 recipes\n",
      "2022-10-09 23:22:02 nollyd minerl.env.malmo.instance.3d4e4e[808347] DEBUG [23:22:02] [Render thread/INFO]: Loaded 927 advancements\n",
      "2022-10-09 23:22:02 nollyd minerl.env.malmo.instance.3d4e4e[808347] DEBUG [23:22:02] [Render thread/INFO]: Environment: authHost='https://authserver.mojang.com', accountsHost='https://api.mojang.com', sessionHost='https://sessionserver.mojang.com', servicesHost='https://api.minecraftservices.com', name='PROD'\n",
      "2022-10-09 23:22:02 nollyd minerl.env.malmo.instance.3d4e4e[808347] DEBUG [23:22:02] [Render thread/INFO]: Starting integrated minecraft server version 1.16.5\n",
      "2022-10-09 23:22:02 nollyd minerl.env.malmo.instance.3d4e4e[808347] DEBUG [23:22:02] [Render thread/INFO]: Generating keypair\n",
      "2022-10-09 23:22:05 nollyd minerl.env.malmo.instance.3d4e4e[808347] DEBUG [23:22:05] [Render thread/INFO]: Preparing start region for dimension minecraft:overworld\n",
      "2022-10-09 23:22:15 nollyd minerl.env.malmo.instance.3d4e4e[808347] DEBUG [23:22:15] [Render thread/INFO]: Changing view distance to 11, from 10\n",
      "2022-10-09 23:22:15 nollyd minerl.env.malmo.instance.3d4e4e[808347] DEBUG [23:22:15] [Render thread/INFO]: MineRLAgent0[local:E:b189489a] logged in with entity id 215 at (-862.5, 76.0, 602.5)\n",
      "2022-10-09 23:22:15 nollyd minerl.env.malmo.instance.3d4e4e[808347] DEBUG [23:22:15] [Render thread/INFO]: MineRLAgent0 joined the game\n",
      "2022-10-09 23:22:15 nollyd minerl.env.malmo.instance.3d4e4e[808347] DEBUG [23:22:15] [Render thread/INFO]: [STDOUT]: *** creating fake mouse cursor ***\n",
      "2022-10-09 23:22:15 nollyd minerl.env.malmo.instance.3d4e4e[808347] DEBUG [23:22:15] [Render thread/INFO]: Preparing spawn area: 2%\n",
      "2022-10-09 23:22:15 nollyd minerl.env.malmo.instance.3d4e4e[808347] DEBUG [23:22:15] [Render thread/INFO]: Time elapsed: 3 ms\n",
      "2022-10-09 23:22:15 nollyd minerl.env.malmo.instance.3d4e4e[808347] DEBUG [23:22:15] [Render thread/INFO]: [STDOUT]: Starting new video null\n",
      "2022-10-09 23:22:15 nollyd minerl.env.malmo.instance.3d4e4e[808347] DEBUG [23:22:15] [Render thread/INFO]: Saving and pausing game...\n",
      "2022-10-09 23:22:15 nollyd minerl.env.malmo.instance.3d4e4e[808347] DEBUG [23:22:15] [Render thread/INFO]: Saving chunks for level 'ServerLevel[mcpworld6f0fec6702b0]'/minecraft:overworld\n",
      "2022-10-09 23:22:16 nollyd minerl.env.malmo.instance.3d4e4e[808347] DEBUG [23:22:16] [Render thread/INFO]: Saving chunks for level 'ServerLevel[mcpworld6f0fec6702b0]'/minecraft:the_nether\n",
      "2022-10-09 23:22:16 nollyd minerl.env.malmo.instance.3d4e4e[808347] DEBUG [23:22:16] [Render thread/INFO]: Saving chunks for level 'ServerLevel[mcpworld6f0fec6702b0]'/minecraft:the_end\n",
      "2022-10-09 23:22:16 nollyd minerl.env.malmo.instance.3d4e4e[808347] DEBUG [23:22:16] [Render thread/INFO]: MineRLAgent0 has made the advancement [Stone Age]\n",
      "2022-10-09 23:22:16 nollyd minerl.env.malmo.instance.3d4e4e[808347] DEBUG [23:22:16] [Render thread/INFO]: MineRLAgent0 has made the advancement [Getting an Upgrade]\n",
      "2022-10-09 23:22:16 nollyd minerl.env.malmo.instance.3d4e4e[808347] DEBUG [23:22:16] [Render thread/INFO]: [CHAT] MineRLAgent0 has made the advancement [Stone Age]\n",
      "2022-10-09 23:22:16 nollyd minerl.env.malmo.instance.3d4e4e[808347] DEBUG [23:22:16] [Render thread/INFO]: [CHAT] MineRLAgent0 has made the advancement [Getting an Upgrade]\n",
      "2022-10-09 23:22:16 nollyd minerl.env.malmo.instance.3d4e4e[808347] DEBUG [23:22:16] [Render thread/INFO]: Loaded 24 advancements\n",
      "2022-10-09 23:22:17 nollyd minerl.env._multiagent[808347] DEBUG Peeking the clients.\n",
      "/home/nollyd/anaconda3/envs/minerl/lib/python3.10/site-packages/torch/nn/modules/container.py:139: UserWarning: Implicit dimension choice for softmax has been deprecated. Change the call to include dim=X as an argument.\n",
      "  input = module(input)\n",
      "2022-10-09 23:22:20 nollyd minerl.env._multiagent[808347] DEBUG Closing MineRL env...\n",
      "2022-10-09 23:22:21 nollyd minerl.env.malmo.instance.3d4e4e[808347] DEBUG [23:22:21] [EnvServerSocketHandler/INFO]: [STDOUT]: *** Stopping the replay, returning control to the inputs\n",
      "2022-10-09 23:22:23 nollyd process_watcher[808347] INFO About to reap process tree of 808481:launchClient.sh: i zombie, owner 808347, printing process tree status in termination order:\n",
      "2022-10-09 23:22:23 nollyd process_watcher[808347] INFO \t-808481:launchClient.sh: i zombie, owner 808347\n",
      "2022-10-09 23:22:23 nollyd process_watcher[808347] INFO Trying to SIGTERM 808481:launchClient.sh: i zombie, owner 808347\n",
      "2022-10-09 23:22:23 nollyd process_watcher[808347] INFO Process psutil.Popen(pid=808481, name='launchClient.sh', status='terminated', exitcode=0, started='23:21:44') terminated with exit code 0\n"
     ]
    }
   ],
   "source": [
    "trainer.evaluate(\"MineRLBasaltMakeWaterfall-v0\", render=True, max_steps=4096, force_no_escape=True)"
   ]
  },
  {
   "cell_type": "code",
   "execution_count": null,
   "metadata": {},
   "outputs": [],
   "source": []
  }
 ],
 "metadata": {
  "kernelspec": {
   "display_name": "Python 3.7.13 ('minerl')",
   "language": "python",
   "name": "python3"
  },
  "language_info": {
   "codemirror_mode": {
    "name": "ipython",
    "version": 3
   },
   "file_extension": ".py",
   "mimetype": "text/x-python",
   "name": "python",
   "nbconvert_exporter": "python",
   "pygments_lexer": "ipython3",
   "version": "3.7.13"
  },
  "orig_nbformat": 4,
  "vscode": {
   "interpreter": {
    "hash": "68aa8dbbdeb1890c0708207de8f2afd4a2bda35bed69e36d43010a61b4a0db67"
   }
  }
 },
 "nbformat": 4,
 "nbformat_minor": 2
}
