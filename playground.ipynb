{
 "cells": [
  {
   "cell_type": "code",
   "execution_count": 1,
   "metadata": {},
   "outputs": [
    {
     "name": "stdout",
     "output_type": "stream",
     "text": [
      "env: MINERL_DATA_ROOT=/Volumes/CORSAIR/data\n"
     ]
    }
   ],
   "source": [
    "%env MINERL_DATA_ROOT=/Volumes/CORSAIR/data"
   ]
  },
  {
   "cell_type": "code",
   "execution_count": 2,
   "metadata": {},
   "outputs": [],
   "source": [
    "%load_ext autoreload\n",
    "%autoreload 2"
   ]
  },
  {
   "cell_type": "code",
   "execution_count": 3,
   "metadata": {},
   "outputs": [
    {
     "name": "stderr",
     "output_type": "stream",
     "text": [
      "/Users/dyllan/miniconda3/envs/minerl/lib/python3.7/site-packages/tqdm/auto.py:22: TqdmWarning: IProgress not found. Please update jupyter and ipywidgets. See https://ipywidgets.readthedocs.io/en/stable/user_install.html\n",
      "  from .autonotebook import tqdm as notebook_tqdm\n"
     ]
    },
    {
     "ename": "SyntaxError",
     "evalue": "invalid syntax (fgz_trainer.py, line 212)",
     "output_type": "error",
     "traceback": [
      "Traceback \u001b[0;36m(most recent call last)\u001b[0m:\n",
      "  File \u001b[1;32m\"/Users/dyllan/miniconda3/envs/minerl/lib/python3.7/site-packages/IPython/core/interactiveshell.py\"\u001b[0m, line \u001b[1;32m3457\u001b[0m, in \u001b[1;35mrun_code\u001b[0m\n    exec(code_obj, self.user_global_ns, self.user_ns)\n",
      "  File \u001b[1;32m\"/var/folders/xl/2vwfqyxx0zqf2cd9k4z36j380000gn/T/ipykernel_5919/3225193054.py\"\u001b[0m, line \u001b[1;32m3\u001b[0m, in \u001b[1;35m<module>\u001b[0m\n    from train import get_agent, get_dynamics_environment, FMC, get_data_handler\n",
      "\u001b[0;36m  File \u001b[0;32m\"/Users/dyllan/Code/basalt_2022_competition_nollied/train.py\"\u001b[0;36m, line \u001b[0;32m13\u001b[0;36m, in \u001b[0;35m<module>\u001b[0;36m\u001b[0m\n\u001b[0;31m    from fgz.training.fgz_trainer import FGZTrainer\u001b[0m\n",
      "\u001b[0;36m  File \u001b[0;32m\"/Users/dyllan/Code/basalt_2022_competition_nollied/fgz/training/fgz_trainer.py\"\u001b[0;36m, line \u001b[0;32m212\u001b[0m\n\u001b[0;31m    print(\"loss:\", total_loss.item(), \"classification_loss:\": classification_loss.item(), \"consistency loss:\", total_consistency_loss.item())\u001b[0m\n\u001b[0m                                                            ^\u001b[0m\n\u001b[0;31mSyntaxError\u001b[0m\u001b[0;31m:\u001b[0m invalid syntax\n"
     ]
    }
   ],
   "source": [
    "import minerl  # NOTE: we need gym>=0.13.1,<0.20\n",
    "import gym\n",
    "from train import get_agent, get_dynamics_environment, FMC, get_data_handler\n",
    "from fgz.training.fgz_trainer import FGZTrainer\n",
    "from fgz_config import FGZConfig\n",
    "import torch\n",
    "import wandb\n",
    "from tqdm import tqdm"
   ]
  },
  {
   "cell_type": "code",
   "execution_count": null,
   "metadata": {},
   "outputs": [],
   "source": [
    "torch.cuda.empty_cache()  # fix memory leaks"
   ]
  },
  {
   "cell_type": "code",
   "execution_count": null,
   "metadata": {},
   "outputs": [],
   "source": [
    "config = FGZConfig(\n",
    "    enabled_tasks=[2, 3],  # cave and waterfall \n",
    "    disable_fmc_detection=True,  # if true, only classification will occur. \n",
    "    use_wandb=True,\n",
    "    unroll_steps=64,\n",
    ")"
   ]
  },
  {
   "cell_type": "code",
   "execution_count": null,
   "metadata": {},
   "outputs": [],
   "source": [
    "minerl_env = gym.make('MineRLBasaltMakeWaterfall-v0')\n",
    "agent = get_agent(config)\n",
    "dynamics_env = get_dynamics_environment(config)"
   ]
  },
  {
   "cell_type": "code",
   "execution_count": null,
   "metadata": {},
   "outputs": [],
   "source": [
    "agent.device"
   ]
  },
  {
   "cell_type": "code",
   "execution_count": null,
   "metadata": {},
   "outputs": [],
   "source": [
    "# dynamics_env.batched_action_space_sample()"
   ]
  },
  {
   "cell_type": "code",
   "execution_count": null,
   "metadata": {},
   "outputs": [],
   "source": [
    "# dummy_initial_state = torch.ones(4096, dtype=float)\n",
    "# dynamics_env.set_all_states(dummy_initial_state)"
   ]
  },
  {
   "cell_type": "code",
   "execution_count": null,
   "metadata": {},
   "outputs": [],
   "source": [
    "data_handler = get_data_handler(config, agent)\n",
    "for loader in data_handler.loaders:\n",
    "    print(loader)"
   ]
  },
  {
   "cell_type": "code",
   "execution_count": null,
   "metadata": {},
   "outputs": [],
   "source": [
    "# t = data_handler.sample_single_trajectory()\n",
    "# for window in t:\n",
    "#     print(len(window))\n",
    "#     for frame, state_embedding, action in window:\n",
    "#         print(state_embedding.shape)\n",
    "#         break\n",
    "#     break"
   ]
  },
  {
   "cell_type": "code",
   "execution_count": null,
   "metadata": {},
   "outputs": [],
   "source": [
    "dynamics_function_optimizer = torch.optim.Adam(\n",
    "    dynamics_env.dynamics_function.parameters(),\n",
    "    lr=0.0001,\n",
    "    # weight_decay=1e-4,\n",
    ")\n",
    "\n",
    "lr_scheduler = torch.optim.lr_scheduler.StepLR(dynamics_function_optimizer, step_size=10, gamma=0.95)"
   ]
  },
  {
   "cell_type": "code",
   "execution_count": null,
   "metadata": {},
   "outputs": [],
   "source": []
  },
  {
   "cell_type": "code",
   "execution_count": null,
   "metadata": {},
   "outputs": [],
   "source": [
    "fmc = FMC(dynamics_env, freeze_best=True)\n",
    "trainer = FGZTrainer(agent, fmc, data_handler, dynamics_function_optimizer, config=config)\n",
    "\n",
    "if config.use_wandb:\n",
    "    wandb.init(project=\"fgz-v0.1.1\", config=config.asdict())"
   ]
  },
  {
   "cell_type": "code",
   "execution_count": null,
   "metadata": {},
   "outputs": [],
   "source": [
    "# trainer.save(\"test_trainer_save.pth\")\n",
    "# loaded_trainer = FGZTrainer.load(\"test_trainer_save.pth\", agent)\n",
    "# loaded_trainer.evaluate(\"MineRLBasaltMakeWaterfall-v0\", render=True, max_steps=4096, force_no_escape=True)"
   ]
  },
  {
   "cell_type": "code",
   "execution_count": null,
   "metadata": {},
   "outputs": [],
   "source": [
    "# trainer.evaluate(\"MineRLBasaltMakeWaterfall-v0\", render=True, max_steps=4096, force_no_escape=True)"
   ]
  },
  {
   "cell_type": "code",
   "execution_count": null,
   "metadata": {},
   "outputs": [],
   "source": [
    "# trainer.eval_actions"
   ]
  },
  {
   "cell_type": "code",
   "execution_count": null,
   "metadata": {},
   "outputs": [],
   "source": [
    "train_steps = 100\n",
    "# train_steps = 5\n",
    "checkpoint_every = 10\n",
    "for train_step in tqdm(range(train_steps), desc=\"Training\"):\n",
    "    trainer.train_sub_trajectory(use_tqdm=False)\n",
    "    if train_step % checkpoint_every == 0:\n",
    "        trainer.save(\"fgz_dynamics_checkpoint.pth\")\n",
    "\n",
    "    lr_scheduler.step()"
   ]
  },
  {
   "cell_type": "code",
   "execution_count": null,
   "metadata": {},
   "outputs": [],
   "source": [
    "# trainer.save(\"fgz_dynamics_trained.pth\")"
   ]
  },
  {
   "cell_type": "code",
   "execution_count": null,
   "metadata": {},
   "outputs": [],
   "source": [
    "# trainer = FGZTrainer.load(\"fgz_dynamics_trained.pth\", agent)"
   ]
  },
  {
   "cell_type": "code",
   "execution_count": null,
   "metadata": {},
   "outputs": [],
   "source": [
    "trainer.evaluate(\"MineRLBasaltMakeWaterfall-v0\", render=True, max_steps=256, force_no_escape=True)"
   ]
  },
  {
   "cell_type": "code",
   "execution_count": null,
   "metadata": {},
   "outputs": [],
   "source": []
  }
 ],
 "metadata": {
  "kernelspec": {
   "display_name": "Python 3.7.13 ('minerl')",
   "language": "python",
   "name": "python3"
  },
  "language_info": {
   "codemirror_mode": {
    "name": "ipython",
    "version": 3
   },
   "file_extension": ".py",
   "mimetype": "text/x-python",
   "name": "python",
   "nbconvert_exporter": "python",
   "pygments_lexer": "ipython3",
   "version": "3.7.13"
  },
  "orig_nbformat": 4,
  "vscode": {
   "interpreter": {
    "hash": "68aa8dbbdeb1890c0708207de8f2afd4a2bda35bed69e36d43010a61b4a0db67"
   }
  }
 },
 "nbformat": 4,
 "nbformat_minor": 2
}
