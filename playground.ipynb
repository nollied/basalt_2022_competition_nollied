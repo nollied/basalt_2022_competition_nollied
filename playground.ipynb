{
 "cells": [
  {
   "cell_type": "code",
   "execution_count": null,
   "metadata": {},
   "outputs": [],
   "source": [
    "import minerl  # NOTE: we need gym>=0.13.1,<0.20\n",
    "import gym\n",
    "from train import get_agent, get_dynamics_environment, FMC\n",
    "from fgz.training.fgz_trainer import FGZTrainer\n",
    "import torch"
   ]
  },
  {
   "cell_type": "code",
   "execution_count": null,
   "metadata": {},
   "outputs": [],
   "source": [
    "torch.cuda.empty_cache()  # fix memory leaks"
   ]
  },
  {
   "cell_type": "code",
   "execution_count": null,
   "metadata": {},
   "outputs": [],
   "source": [
    "minerl_env = gym.make('MineRLBasaltFindCave-v0')\n",
    "agent = get_agent()\n",
    "dynamics_env = get_dynamics_environment(minerl_env)"
   ]
  },
  {
   "cell_type": "code",
   "execution_count": null,
   "metadata": {},
   "outputs": [],
   "source": [
    "# dynamics_env.batched_action_space_sample()"
   ]
  },
  {
   "cell_type": "code",
   "execution_count": null,
   "metadata": {},
   "outputs": [],
   "source": [
    "dummy_initial_state = torch.ones(4096, dtype=float)\n",
    "dynamics_env.set_all_states(dummy_initial_state)"
   ]
  },
  {
   "cell_type": "code",
   "execution_count": null,
   "metadata": {},
   "outputs": [],
   "source": [
    "fmc = FMC(dynamics_env, freeze_best=True)\n",
    "trainer = FGZTrainer(minerl_env, agent, fmc, unroll_steps=8)"
   ]
  },
  {
   "cell_type": "code",
   "execution_count": null,
   "metadata": {},
   "outputs": [],
   "source": [
    "fmc.simulate(4, use_tqdm=True)"
   ]
  },
  {
   "cell_type": "code",
   "execution_count": null,
   "metadata": {},
   "outputs": [],
   "source": [
    "# fmc.tree.render() ;"
   ]
  },
  {
   "cell_type": "code",
   "execution_count": null,
   "metadata": {},
   "outputs": [],
   "source": [
    "for state, action in fmc.tree.best_path:\n",
    "    print(state.reward, state.observation.var(), action)\n",
    "    print()"
   ]
  },
  {
   "cell_type": "code",
   "execution_count": null,
   "metadata": {},
   "outputs": [],
   "source": []
  }
 ],
 "metadata": {
  "kernelspec": {
   "display_name": "Python 3.10.4 ('minerl')",
   "language": "python",
   "name": "python3"
  },
  "language_info": {
   "codemirror_mode": {
    "name": "ipython",
    "version": 3
   },
   "file_extension": ".py",
   "mimetype": "text/x-python",
   "name": "python",
   "nbconvert_exporter": "python",
   "pygments_lexer": "ipython3",
   "version": "3.10.4"
  },
  "orig_nbformat": 4,
  "vscode": {
   "interpreter": {
    "hash": "32f88b1943610b2b4002ab57fb2488113fc1952d4ac8f2580706d8ed13983308"
   }
  }
 },
 "nbformat": 4,
 "nbformat_minor": 2
}
