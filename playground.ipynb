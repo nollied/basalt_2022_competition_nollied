{
 "cells": [
  {
   "cell_type": "code",
   "execution_count": 1,
   "metadata": {},
   "outputs": [],
   "source": [
    "# %env MINERL_DATA_ROOT=/Volumes/CORSAIR/data"
   ]
  },
  {
   "cell_type": "code",
   "execution_count": 2,
   "metadata": {},
   "outputs": [
    {
     "name": "stderr",
     "output_type": "stream",
     "text": [
      "WARNING: CPU random generator seem to be failing, disabling hardware random number generation\n",
      "WARNING: RDRND generated: 0xffffffff 0xffffffff 0xffffffff 0xffffffff\n",
      "/home/nollyd/anaconda3/envs/minerl/lib/python3.10/site-packages/tqdm/auto.py:22: TqdmWarning: IProgress not found. Please update jupyter and ipywidgets. See https://ipywidgets.readthedocs.io/en/stable/user_install.html\n",
      "  from .autonotebook import tqdm as notebook_tqdm\n"
     ]
    }
   ],
   "source": [
    "import minerl  # NOTE: we need gym>=0.13.1,<0.20\n",
    "import gym\n",
    "from train import get_agent, get_dynamics_environment, FMC, get_data_handler\n",
    "from fgz.training.fgz_trainer import FGZTrainer\n",
    "import torch\n",
    "import wandb"
   ]
  },
  {
   "cell_type": "code",
   "execution_count": 3,
   "metadata": {},
   "outputs": [],
   "source": [
    "torch.cuda.empty_cache()  # fix memory leaks"
   ]
  },
  {
   "cell_type": "code",
   "execution_count": 4,
   "metadata": {},
   "outputs": [
    {
     "name": "stdout",
     "output_type": "stream",
     "text": [
      "Loading model data/VPT-models/foundation-model-1x.model\n",
      "with weights data/VPT-models/foundation-model-1x.weights\n"
     ]
    }
   ],
   "source": [
    "minerl_env = gym.make('MineRLBasaltFindCave-v0')\n",
    "agent = get_agent()\n",
    "dynamics_env = get_dynamics_environment(minerl_env)"
   ]
  },
  {
   "cell_type": "code",
   "execution_count": 5,
   "metadata": {},
   "outputs": [
    {
     "data": {
      "text/plain": [
       "device(type='cuda')"
      ]
     },
     "execution_count": 5,
     "metadata": {},
     "output_type": "execute_result"
    }
   ],
   "source": [
    "agent.device"
   ]
  },
  {
   "cell_type": "code",
   "execution_count": 6,
   "metadata": {},
   "outputs": [],
   "source": [
    "# dynamics_env.batched_action_space_sample()"
   ]
  },
  {
   "cell_type": "code",
   "execution_count": 7,
   "metadata": {},
   "outputs": [],
   "source": [
    "# dummy_initial_state = torch.ones(4096, dtype=float)\n",
    "# dynamics_env.set_all_states(dummy_initial_state)"
   ]
  },
  {
   "cell_type": "code",
   "execution_count": 8,
   "metadata": {},
   "outputs": [
    {
     "data": {
      "text/plain": [
       "'T(Player281-4e85ecba5b7a-20220706-205440)'"
      ]
     },
     "execution_count": 8,
     "metadata": {},
     "output_type": "execute_result"
    }
   ],
   "source": [
    "data_handler = get_data_handler(agent)\n",
    "str(data_handler.loaders[0].trajectories[0])"
   ]
  },
  {
   "cell_type": "code",
   "execution_count": 9,
   "metadata": {},
   "outputs": [],
   "source": [
    "# t = data_handler.sample_single_trajectory()\n",
    "# for window in t:\n",
    "#     print(len(window))\n",
    "#     for frame, state_embedding, action in window:\n",
    "#         print(state_embedding.shape)\n",
    "#         break\n",
    "#     break"
   ]
  },
  {
   "cell_type": "code",
   "execution_count": 10,
   "metadata": {},
   "outputs": [],
   "source": [
    "dynamics_function_optimizer = torch.optim.SGD(\n",
    "    dynamics_env.dynamics_function.parameters(),\n",
    "    lr=0.01,\n",
    ")"
   ]
  },
  {
   "cell_type": "code",
   "execution_count": 11,
   "metadata": {},
   "outputs": [
    {
     "name": "stderr",
     "output_type": "stream",
     "text": [
      "2022-10-09 20:02:57 nollyd wandb.jupyter[743238] ERROR Failed to detect the name of this notebook, you can set it manually with the WANDB_NOTEBOOK_NAME environment variable to enable code saving.\n",
      "2022-10-09 20:02:58 nollyd urllib3.connectionpool[743238] DEBUG Starting new HTTPS connection (1): api.wandb.ai:443\n",
      "2022-10-09 20:02:58 nollyd urllib3.connectionpool[743238] DEBUG https://api.wandb.ai:443 \"POST /graphql HTTP/1.1\" 200 None\n",
      "2022-10-09 20:02:58 nollyd urllib3.connectionpool[743238] DEBUG Starting new HTTPS connection (1): api.wandb.ai:443\n",
      "2022-10-09 20:02:58 nollyd urllib3.connectionpool[743238] DEBUG https://api.wandb.ai:443 \"POST /graphql HTTP/1.1\" 200 None\n",
      "\u001b[34m\u001b[1mwandb\u001b[0m: Currently logged in as: \u001b[33mdyllan\u001b[0m. Use \u001b[1m`wandb login --relogin`\u001b[0m to force relogin\n",
      "2022-10-09 20:02:58 nollyd git.cmd[743238] DEBUG Popen(['git', 'cat-file', '--batch-check'], cwd=/home/nollyd/Code/basalt_2022_competition_nollied, universal_newlines=False, shell=None, istream=<valid stream>)\n"
     ]
    },
    {
     "data": {
      "text/html": [
       "wandb version 0.13.4 is available!  To upgrade, please run:\n",
       " $ pip install wandb --upgrade"
      ],
      "text/plain": [
       "<IPython.core.display.HTML object>"
      ]
     },
     "metadata": {},
     "output_type": "display_data"
    },
    {
     "data": {
      "text/html": [
       "Tracking run with wandb version 0.13.3"
      ],
      "text/plain": [
       "<IPython.core.display.HTML object>"
      ]
     },
     "metadata": {},
     "output_type": "display_data"
    },
    {
     "data": {
      "text/html": [
       "Run data is saved locally in <code>/home/nollyd/Code/basalt_2022_competition_nollied/wandb/run-20221009_200258-390b27dt</code>"
      ],
      "text/plain": [
       "<IPython.core.display.HTML object>"
      ]
     },
     "metadata": {},
     "output_type": "display_data"
    },
    {
     "data": {
      "text/html": [
       "Syncing run <strong><a href=\"https://wandb.ai/dyllan/fgz-v0/runs/390b27dt\" target=\"_blank\">comfy-capybara-21</a></strong> to <a href=\"https://wandb.ai/dyllan/fgz-v0\" target=\"_blank\">Weights & Biases</a> (<a href=\"https://wandb.me/run\" target=\"_blank\">docs</a>)<br/>"
      ],
      "text/plain": [
       "<IPython.core.display.HTML object>"
      ]
     },
     "metadata": {},
     "output_type": "display_data"
    }
   ],
   "source": [
    "use_wandb = True\n",
    "\n",
    "fmc = FMC(dynamics_env, freeze_best=True)\n",
    "trainer = FGZTrainer(minerl_env, agent, fmc, data_handler, dynamics_function_optimizer, unroll_steps=8, use_wandb=use_wandb)\n",
    "\n",
    "if use_wandb:\n",
    "    wandb.init(project=\"fgz-v0\")"
   ]
  },
  {
   "cell_type": "code",
   "execution_count": 12,
   "metadata": {},
   "outputs": [
    {
     "name": "stderr",
     "output_type": "stream",
     "text": [
      "Training on BuildWaterfall: Player757-f153ac423f61-20220704-235445:   0%|          | 0/8 [00:00<?, ?it/s]/home/nollyd/anaconda3/envs/minerl/lib/python3.10/site-packages/torch/nn/modules/container.py:139: UserWarning: Implicit dimension choice for softmax has been deprecated. Change the call to include dim=X as an argument.\n",
      "  input = module(input)\n",
      "Training on BuildWaterfall: Player757-f153ac423f61-20220704-235445: 100%|██████████| 8/8 [00:01<00:00,  5.35it/s]\n"
     ]
    }
   ],
   "source": [
    "trainer.train_sub_trajectory(use_tqdm=True, max_steps=None)"
   ]
  },
  {
   "cell_type": "code",
   "execution_count": 13,
   "metadata": {},
   "outputs": [],
   "source": [
    "# fmc.simulate(4, use_tqdm=True)"
   ]
  },
  {
   "cell_type": "code",
   "execution_count": 14,
   "metadata": {},
   "outputs": [],
   "source": [
    "# fmc.tree.render() ;"
   ]
  },
  {
   "cell_type": "code",
   "execution_count": 15,
   "metadata": {},
   "outputs": [],
   "source": [
    "# for state, action in fmc.tree.best_path:\n",
    "#     print(state.reward, state.observation.var(), action)\n",
    "#     print()"
   ]
  },
  {
   "cell_type": "code",
   "execution_count": 16,
   "metadata": {},
   "outputs": [],
   "source": [
    "# trainer.train_trajectory()"
   ]
  }
 ],
 "metadata": {
  "kernelspec": {
   "display_name": "Python 3.7.13 ('minerl')",
   "language": "python",
   "name": "python3"
  },
  "language_info": {
   "codemirror_mode": {
    "name": "ipython",
    "version": 3
   },
   "file_extension": ".py",
   "mimetype": "text/x-python",
   "name": "python",
   "nbconvert_exporter": "python",
   "pygments_lexer": "ipython3",
   "version": "3.7.13"
  },
  "orig_nbformat": 4,
  "vscode": {
   "interpreter": {
    "hash": "68aa8dbbdeb1890c0708207de8f2afd4a2bda35bed69e36d43010a61b4a0db67"
   }
  }
 },
 "nbformat": 4,
 "nbformat_minor": 2
}
