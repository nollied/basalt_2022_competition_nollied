{
 "cells": [
  {
   "cell_type": "code",
   "execution_count": 1,
   "metadata": {},
   "outputs": [
    {
     "name": "stdout",
     "output_type": "stream",
     "text": [
      "env: MINERL_DATA_ROOT=/Volumes/CORSAIR/data\n"
     ]
    }
   ],
   "source": [
    "%env MINERL_DATA_ROOT=/Volumes/CORSAIR/data"
   ]
  },
  {
   "cell_type": "code",
   "execution_count": 2,
   "metadata": {},
   "outputs": [],
   "source": [
    "%load_ext autoreload\n",
    "%autoreload 2"
   ]
  },
  {
   "cell_type": "code",
   "execution_count": 3,
   "metadata": {},
   "outputs": [
    {
     "name": "stderr",
     "output_type": "stream",
     "text": [
      "/Users/dyllan/miniconda3/envs/minerl/lib/python3.7/site-packages/tqdm/auto.py:22: TqdmWarning: IProgress not found. Please update jupyter and ipywidgets. See https://ipywidgets.readthedocs.io/en/stable/user_install.html\n",
      "  from .autonotebook import tqdm as notebook_tqdm\n"
     ]
    }
   ],
   "source": [
    "import minerl  # NOTE: we need gym>=0.13.1,<0.20\n",
    "import gym\n",
    "from train import get_agent, get_dynamics_environment, FMC, get_data_handler\n",
    "from fgz.training.fgz_trainer import FGZTrainer\n",
    "from fgz_config import FGZConfig\n",
    "import torch\n",
    "import wandb\n",
    "from tqdm import tqdm"
   ]
  },
  {
   "cell_type": "code",
   "execution_count": 4,
   "metadata": {},
   "outputs": [],
   "source": [
    "torch.cuda.empty_cache()  # fix memory leaks"
   ]
  },
  {
   "cell_type": "code",
   "execution_count": 5,
   "metadata": {},
   "outputs": [],
   "source": [
    "# enabled_tasks = [2, 3]  # cave and waterfall \n",
    "enabled_tasks = [0, 1, 2, 3]  # all \n",
    "\n",
    "config = FGZConfig(\n",
    "    enabled_tasks=enabled_tasks,\n",
    "    disable_fmc_detection=True,  # if true, only classification will occur. \n",
    "    use_wandb=True,\n",
    "    unroll_steps=64,\n",
    ")"
   ]
  },
  {
   "cell_type": "code",
   "execution_count": 6,
   "metadata": {},
   "outputs": [
    {
     "name": "stdout",
     "output_type": "stream",
     "text": [
      "Loading model foundation-model-1x.model\n",
      "with weights foundation-model-1x.weights\n"
     ]
    }
   ],
   "source": [
    "minerl_env = gym.make('MineRLBasaltMakeWaterfall-v0')\n",
    "agent = get_agent(config)\n",
    "dynamics_env = get_dynamics_environment(config)"
   ]
  },
  {
   "cell_type": "code",
   "execution_count": 7,
   "metadata": {},
   "outputs": [
    {
     "data": {
      "text/plain": [
       "device(type='cpu')"
      ]
     },
     "execution_count": 7,
     "metadata": {},
     "output_type": "execute_result"
    }
   ],
   "source": [
    "agent.device"
   ]
  },
  {
   "cell_type": "code",
   "execution_count": 8,
   "metadata": {},
   "outputs": [],
   "source": [
    "# dynamics_env.batched_action_space_sample()"
   ]
  },
  {
   "cell_type": "code",
   "execution_count": 9,
   "metadata": {},
   "outputs": [],
   "source": [
    "# dummy_initial_state = torch.ones(4096, dtype=float)\n",
    "# dynamics_env.set_all_states(dummy_initial_state)"
   ]
  },
  {
   "cell_type": "code",
   "execution_count": 10,
   "metadata": {},
   "outputs": [
    {
     "name": "stdout",
     "output_type": "stream",
     "text": [
      "ContiguousTrajectoryDataLoader(n=35, /Volumes/CORSAIR/data/MineRLBasaltBuildVillageHouse-v0)\n",
      "ContiguousTrajectoryDataLoader(n=30, /Volumes/CORSAIR/data/MineRLBasaltCreateVillageAnimalPen-v0)\n",
      "ContiguousTrajectoryDataLoader(n=30, /Volumes/CORSAIR/data/MineRLBasaltFindCave-v0)\n",
      "ContiguousTrajectoryDataLoader(n=30, /Volumes/CORSAIR/data/MineRLBasaltMakeWaterfall-v0)\n"
     ]
    }
   ],
   "source": [
    "data_handler = get_data_handler(config, agent)\n",
    "for loader in data_handler.loaders:\n",
    "    print(loader)"
   ]
  },
  {
   "cell_type": "code",
   "execution_count": 11,
   "metadata": {},
   "outputs": [],
   "source": [
    "# t = data_handler.sample_single_trajectory()\n",
    "# for window in t:\n",
    "#     print(len(window))\n",
    "#     for frame, state_embedding, action in window:\n",
    "#         print(state_embedding.shape)\n",
    "#         break\n",
    "#     break"
   ]
  },
  {
   "cell_type": "code",
   "execution_count": 12,
   "metadata": {},
   "outputs": [],
   "source": [
    "dynamics_function_optimizer = torch.optim.Adam(\n",
    "    dynamics_env.dynamics_function.parameters(),\n",
    "    lr=0.001,\n",
    "    # weight_decay=1e-4,\n",
    ")\n",
    "\n",
    "lr_scheduler = None\n",
    "# lr_scheduler = torch.optim.lr_scheduler.StepLR(dynamics_function_optimizer, step_size=10, gamma=0.95)"
   ]
  },
  {
   "cell_type": "code",
   "execution_count": null,
   "metadata": {},
   "outputs": [],
   "source": []
  },
  {
   "cell_type": "code",
   "execution_count": 13,
   "metadata": {},
   "outputs": [
    {
     "name": "stderr",
     "output_type": "stream",
     "text": [
      "2022-10-18 14:58:30 dyllans-MacBook-Pro.local wandb.jupyter[10557] ERROR Failed to detect the name of this notebook, you can set it manually with the WANDB_NOTEBOOK_NAME environment variable to enable code saving.\n",
      "2022-10-18 14:58:32 dyllans-MacBook-Pro.local urllib3.connectionpool[10557] DEBUG Starting new HTTPS connection (1): api.wandb.ai:443\n",
      "2022-10-18 14:58:32 dyllans-MacBook-Pro.local urllib3.connectionpool[10557] DEBUG https://api.wandb.ai:443 \"POST /graphql HTTP/1.1\" 200 None\n",
      "2022-10-18 14:58:32 dyllans-MacBook-Pro.local urllib3.connectionpool[10557] DEBUG Starting new HTTPS connection (1): api.wandb.ai:443\n",
      "2022-10-18 14:58:32 dyllans-MacBook-Pro.local urllib3.connectionpool[10557] DEBUG https://api.wandb.ai:443 \"POST /graphql HTTP/1.1\" 200 None\n",
      "\u001b[34m\u001b[1mwandb\u001b[0m: Currently logged in as: \u001b[33mdyllan\u001b[0m. Use \u001b[1m`wandb login --relogin`\u001b[0m to force relogin\n",
      "2022-10-18 14:58:32 dyllans-MacBook-Pro.local git.cmd[10557] DEBUG Popen(['git', 'cat-file', '--batch-check'], cwd=/Users/dyllan/Code/basalt_2022_competition_nollied, universal_newlines=False, shell=None, istream=<valid stream>)\n"
     ]
    },
    {
     "data": {
      "text/html": [
       "wandb version 0.13.4 is available!  To upgrade, please run:\n",
       " $ pip install wandb --upgrade"
      ],
      "text/plain": [
       "<IPython.core.display.HTML object>"
      ]
     },
     "metadata": {},
     "output_type": "display_data"
    },
    {
     "data": {
      "text/html": [
       "Tracking run with wandb version 0.13.3"
      ],
      "text/plain": [
       "<IPython.core.display.HTML object>"
      ]
     },
     "metadata": {},
     "output_type": "display_data"
    },
    {
     "data": {
      "text/html": [
       "Run data is saved locally in <code>/Users/dyllan/Code/basalt_2022_competition_nollied/wandb/run-20221018_145832-1v8s8zqk</code>"
      ],
      "text/plain": [
       "<IPython.core.display.HTML object>"
      ]
     },
     "metadata": {},
     "output_type": "display_data"
    },
    {
     "data": {
      "text/html": [
       "Syncing run <strong><a href=\"https://wandb.ai/dyllan/fgz-v0.1.1/runs/1v8s8zqk\" target=\"_blank\">clean-mountain-41</a></strong> to <a href=\"https://wandb.ai/dyllan/fgz-v0.1.1\" target=\"_blank\">Weights & Biases</a> (<a href=\"https://wandb.me/run\" target=\"_blank\">docs</a>)<br/>"
      ],
      "text/plain": [
       "<IPython.core.display.HTML object>"
      ]
     },
     "metadata": {},
     "output_type": "display_data"
    }
   ],
   "source": [
    "fmc = FMC(dynamics_env, freeze_best=True)\n",
    "trainer = FGZTrainer(agent, fmc, data_handler, dynamics_function_optimizer, config=config)\n",
    "\n",
    "if config.use_wandb:\n",
    "    wandb.init(project=\"fgz-v0.1.1\", config=config.asdict())"
   ]
  },
  {
   "cell_type": "code",
   "execution_count": 14,
   "metadata": {},
   "outputs": [],
   "source": [
    "# trainer.save(\"test_trainer_save.pth\")\n",
    "# loaded_trainer = FGZTrainer.load(\"test_trainer_save.pth\", agent)\n",
    "# loaded_trainer.evaluate(\"MineRLBasaltMakeWaterfall-v0\", render=True, max_steps=4096, force_no_escape=True)"
   ]
  },
  {
   "cell_type": "code",
   "execution_count": 15,
   "metadata": {},
   "outputs": [],
   "source": [
    "# trainer.evaluate(\"MineRLBasaltMakeWaterfall-v0\", render=True, max_steps=4096, force_no_escape=True)"
   ]
  },
  {
   "cell_type": "code",
   "execution_count": 16,
   "metadata": {},
   "outputs": [],
   "source": [
    "# trainer.eval_actions"
   ]
  },
  {
   "cell_type": "code",
   "execution_count": 17,
   "metadata": {},
   "outputs": [
    {
     "name": "stderr",
     "output_type": "stream",
     "text": [
      "Training:   0%|          | 0/100 [00:00<?, ?it/s]/Users/dyllan/miniconda3/envs/minerl/lib/python3.7/site-packages/torch/nn/modules/container.py:139: UserWarning: Implicit dimension choice for softmax has been deprecated. Change the call to include dim=X as an argument.\n",
      "  input = module(input)\n",
      "2022-10-18 14:59:34 dyllans-MacBook-Pro.local urllib3.connectionpool[10557] DEBUG Starting new HTTPS connection (1): o151352.ingest.sentry.io:443\n",
      "2022-10-18 14:59:34 dyllans-MacBook-Pro.local urllib3.connectionpool[10557] DEBUG https://o151352.ingest.sentry.io:443 \"POST /api/5288891/envelope/ HTTP/1.1\" 200 2\n"
     ]
    }
   ],
   "source": [
    "train_steps = 100\n",
    "batch_size = 16\n",
    "# train_steps = 5\n",
    "checkpoint_every = 10\n",
    "for train_step in tqdm(range(train_steps), desc=\"Training\"):\n",
    "    trainer.train_sub_trajectories(batch_size=batch_size, use_tqdm=False)\n",
    "    if train_step % checkpoint_every == 0:\n",
    "        trainer.save(\"fgz_dynamics_checkpoint.pth\")\n",
    "\n",
    "    if lr_scheduler is not None:\n",
    "        lr_scheduler.step()"
   ]
  },
  {
   "cell_type": "code",
   "execution_count": null,
   "metadata": {},
   "outputs": [],
   "source": [
    "# trainer.save(\"fgz_dynamics_trained.pth\")"
   ]
  },
  {
   "cell_type": "code",
   "execution_count": null,
   "metadata": {},
   "outputs": [],
   "source": [
    "# trainer = FGZTrainer.load(\"fgz_dynamics_trained.pth\", agent)"
   ]
  },
  {
   "cell_type": "code",
   "execution_count": null,
   "metadata": {},
   "outputs": [],
   "source": [
    "trainer.evaluate(\"MineRLBasaltMakeWaterfall-v0\", render=True, max_steps=256, force_no_escape=True)"
   ]
  },
  {
   "cell_type": "code",
   "execution_count": null,
   "metadata": {},
   "outputs": [],
   "source": []
  }
 ],
 "metadata": {
  "kernelspec": {
   "display_name": "Python 3.7.13 ('minerl')",
   "language": "python",
   "name": "python3"
  },
  "language_info": {
   "codemirror_mode": {
    "name": "ipython",
    "version": 3
   },
   "file_extension": ".py",
   "mimetype": "text/x-python",
   "name": "python",
   "nbconvert_exporter": "python",
   "pygments_lexer": "ipython3",
   "version": "3.7.13"
  },
  "orig_nbformat": 4,
  "vscode": {
   "interpreter": {
    "hash": "68aa8dbbdeb1890c0708207de8f2afd4a2bda35bed69e36d43010a61b4a0db67"
   }
  }
 },
 "nbformat": 4,
 "nbformat_minor": 2
}
