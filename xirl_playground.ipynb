{
 "cells": [
  {
   "cell_type": "code",
   "execution_count": null,
   "metadata": {},
   "outputs": [],
   "source": [
    "%env MINERL_DATA_ROOT=/Volumes/CORSAIR/data"
   ]
  },
  {
   "cell_type": "code",
   "execution_count": null,
   "metadata": {},
   "outputs": [],
   "source": [
    "%load_ext autoreload\n",
    "%autoreload 2"
   ]
  },
  {
   "cell_type": "code",
   "execution_count": null,
   "metadata": {},
   "outputs": [],
   "source": [
    "import minerl  # NOTE: we need gym>=0.13.1,<0.20\n",
    "import gym\n",
    "# from train import get_agent, get_dynamics_environment, FMC, get_data_handler\n",
    "from fgz.training.fgz_trainer import FGZTrainer\n",
    "from fgz.training.xirl_trainer import XIRLTrainer\n",
    "from xirl_config import XIRLConfig\n",
    "import torch\n",
    "import wandb\n",
    "from tqdm import tqdm\n",
    "from fgz.data_utils.generate_xirl_targets import generate_target"
   ]
  },
  {
   "cell_type": "code",
   "execution_count": null,
   "metadata": {},
   "outputs": [],
   "source": [
    "torch.cuda.empty_cache()  # fix memory leaks"
   ]
  },
  {
   "cell_type": "code",
   "execution_count": null,
   "metadata": {},
   "outputs": [],
   "source": [
    "config = XIRLConfig(\n",
    "    enabled_tasks=[2],  # just cave \n",
    "    disable_fmc_detection=True,  # if true, only classification will occur. \n",
    "    use_wandb=False,\n",
    "    data_workers=1,\n",
    "    embed_batch_size=4,\n",
    "    batch_size=4,\n",
    "    num_frames_per_pair=16,\n",
    "    num_frames_per_trajectory_to_load=32,\n",
    ")"
   ]
  },
  {
   "cell_type": "code",
   "execution_count": null,
   "metadata": {},
   "outputs": [],
   "source": [
    "# minerl_env = gym.make('MineRLBasaltMakeWaterfall-v0')\n",
    "# agent = get_agent(config)\n",
    "# dynamics_env = get_dynamics_environment(config)"
   ]
  },
  {
   "cell_type": "code",
   "execution_count": null,
   "metadata": {},
   "outputs": [],
   "source": [
    "# agent.device"
   ]
  },
  {
   "cell_type": "code",
   "execution_count": null,
   "metadata": {},
   "outputs": [],
   "source": [
    "# dynamics_function_optimizer = torch.optim.Adam(\n",
    "#     dynamics_env.dynamics_function.parameters(),\n",
    "#     lr=0.000005,\n",
    "#     weight_decay=1e-4,\n",
    "# )"
   ]
  },
  {
   "cell_type": "code",
   "execution_count": null,
   "metadata": {},
   "outputs": [],
   "source": [
    "dataset_path = config.dataset_paths[0]\n",
    "print(dataset_path)\n",
    "trainer = XIRLTrainer(config)"
   ]
  },
  {
   "cell_type": "code",
   "execution_count": null,
   "metadata": {},
   "outputs": [],
   "source": [
    "target_embedding = generate_target(config, trainer.model, dataset_path)"
   ]
  },
  {
   "cell_type": "code",
   "execution_count": null,
   "metadata": {},
   "outputs": [],
   "source": [
    "target_embedding"
   ]
  },
  {
   "cell_type": "code",
   "execution_count": null,
   "metadata": {},
   "outputs": [],
   "source": [
    "# import ray\n",
    "# ray.get(trainer.train_on_pair())\n",
    "\n",
    "for _ in range(2):\n",
    "    trainer.train_on_pair()"
   ]
  },
  {
   "cell_type": "code",
   "execution_count": null,
   "metadata": {},
   "outputs": [],
   "source": [
    "trainer.get_nbytes_stored()"
   ]
  },
  {
   "cell_type": "code",
   "execution_count": null,
   "metadata": {},
   "outputs": [],
   "source": []
  }
 ],
 "metadata": {
  "kernelspec": {
   "display_name": "Python 3.7.13 ('minerl')",
   "language": "python",
   "name": "python3"
  },
  "language_info": {
   "codemirror_mode": {
    "name": "ipython",
    "version": 3
   },
   "file_extension": ".py",
   "mimetype": "text/x-python",
   "name": "python",
   "nbconvert_exporter": "python",
   "pygments_lexer": "ipython3",
   "version": "3.7.13"
  },
  "orig_nbformat": 4,
  "vscode": {
   "interpreter": {
    "hash": "68aa8dbbdeb1890c0708207de8f2afd4a2bda35bed69e36d43010a61b4a0db67"
   }
  }
 },
 "nbformat": 4,
 "nbformat_minor": 2
}
