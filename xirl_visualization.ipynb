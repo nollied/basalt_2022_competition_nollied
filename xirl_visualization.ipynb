{
 "cells": [
  {
   "cell_type": "code",
   "execution_count": 1,
   "metadata": {},
   "outputs": [],
   "source": [
    "%load_ext autoreload\n",
    "%autoreload 2"
   ]
  },
  {
   "cell_type": "code",
   "execution_count": 2,
   "metadata": {},
   "outputs": [
    {
     "name": "stderr",
     "output_type": "stream",
     "text": [
      "WARNING: CPU random generator seem to be failing, disabling hardware random number generation\n",
      "WARNING: RDRND generated: 0xffffffff 0xffffffff 0xffffffff 0xffffffff\n"
     ]
    }
   ],
   "source": [
    "import minerl  # NOTE: we need gym>=0.13.1,<0.20\n",
    "import gym\n",
    "# from train import get_agent, get_dynamics_environment, FMC, get_data_handler\n",
    "from fgz.training.fgz_trainer import FGZTrainer\n",
    "from fgz.training.xirl_trainer import XIRLTrainer\n",
    "from xirl_config import XIRLConfig\n",
    "import torch\n",
    "import wandb\n",
    "from tqdm import tqdm\n",
    "from fgz.data_utils.generate_xirl_targets import generate_target"
   ]
  },
  {
   "cell_type": "code",
   "execution_count": 3,
   "metadata": {},
   "outputs": [],
   "source": [
    "torch.cuda.empty_cache()  # fix memory leaks"
   ]
  },
  {
   "cell_type": "code",
   "execution_count": 4,
   "metadata": {},
   "outputs": [],
   "source": [
    "config = XIRLConfig(\n",
    "    enabled_tasks=[3],  # just waterfall\n",
    "    disable_fmc_detection=True,  # if true, only classification will occur. \n",
    "    use_wandb=False,\n",
    "    data_workers=1,\n",
    "    embed_batch_size=4,\n",
    "    batch_size=4,\n",
    "    num_frames_per_pair=16,\n",
    "    num_frames_per_trajectory_to_load=32,\n",
    ")"
   ]
  },
  {
   "cell_type": "code",
   "execution_count": 5,
   "metadata": {},
   "outputs": [
    {
     "name": "stdout",
     "output_type": "stream",
     "text": [
      "data/MineRLBasaltMakeWaterfall-v0\n"
     ]
    }
   ],
   "source": [
    "dataset_path = config.dataset_paths[0]\n",
    "print(dataset_path)\n",
    "# trainer = XIRLTrainer(config)"
   ]
  },
  {
   "cell_type": "code",
   "execution_count": 6,
   "metadata": {},
   "outputs": [],
   "source": [
    "model = torch.load(\"train/xirl_model_7190_looks_decent.pth\")"
   ]
  },
  {
   "cell_type": "code",
   "execution_count": null,
   "metadata": {},
   "outputs": [],
   "source": []
  },
  {
   "cell_type": "code",
   "execution_count": 7,
   "metadata": {},
   "outputs": [
    {
     "name": "stderr",
     "output_type": "stream",
     "text": [
      "/home/nollyd/Code/basalt_2022_competition_nollied/fgz/data_utils/data_handler.py:256: UserWarning: Missing video/json path! Skipping... data/MineRLBasaltMakeWaterfall-v0/cheeky-cornflower-setter-0d5b8821ca14 [('20220720', '123734')]\n",
      "  warn(f\"Missing video/json path! Skipping... {trajectory_prefix} {sorted_date_times}\")\n",
      "/home/nollyd/Code/basalt_2022_competition_nollied/fgz/data_utils/data_handler.py:256: UserWarning: Missing video/json path! Skipping... data/MineRLBasaltMakeWaterfall-v0/lovely-persimmon-angora-06119347f21a [('20220716', '232112'), ('20220716', '232613')]\n",
      "  warn(f\"Missing video/json path! Skipping... {trajectory_prefix} {sorted_date_times}\")\n",
      "/home/nollyd/Code/basalt_2022_competition_nollied/fgz/data_utils/data_handler.py:256: UserWarning: Missing video/json path! Skipping... data/MineRLBasaltMakeWaterfall-v0/lovely-persimmon-angora-7a3f261ab2ed [('20220716', '234115')]\n",
      "  warn(f\"Missing video/json path! Skipping... {trajectory_prefix} {sorted_date_times}\")\n",
      "/home/nollyd/Code/basalt_2022_competition_nollied/fgz/data_utils/data_handler.py:256: UserWarning: Missing video/json path! Skipping... data/MineRLBasaltMakeWaterfall-v0/squeaky-ultramarine-chihuahua-9692cdbfee71 [('20220719', '172314')]\n",
      "  warn(f\"Missing video/json path! Skipping... {trajectory_prefix} {sorted_date_times}\")\n",
      "Loading last frames:   0%|          | 0/3149 [00:00<?, ?it/s]/home/nollyd/Code/basalt_2022_competition_nollied/fgz/data_utils/generate_xirl_targets.py:22: UserWarning: Creating a tensor from a list of numpy.ndarrays is extremely slow. Please consider converting the list to a single numpy.ndarray with numpy.array() before converting to a tensor. (Triggered internally at  ../torch/csrc/utils/tensor_new.cpp:204.)\n",
      "  batch = torch.tensor(all_last_frames, device=torch.device(\"cuda\"))\n",
      "Loading last frames:  16%|█▋        | 515/3149 [00:30<03:15, 13.48it/s][mov,mp4,m4a,3gp,3g2,mj2 @ 0x559dd3e7b680] moov atom not found\n",
      "/home/nollyd/Code/basalt_2022_competition_nollied/fgz/data_utils/generate_xirl_targets.py:33: UserWarning: Skipping CT(data/MineRLBasaltMakeWaterfall-v0/gimpy-jade-panda-f1813dfb9628, nclips=1)\n",
      "  warn(f\"Skipping {str(trajectory)}\")\n",
      "Loading last frames:  29%|██▉       | 923/3149 [00:50<02:43, 13.63it/s][mov,mp4,m4a,3gp,3g2,mj2 @ 0x559dd4561b80] moov atom not found\n",
      "/home/nollyd/Code/basalt_2022_competition_nollied/fgz/data_utils/generate_xirl_targets.py:33: UserWarning: Skipping CT(data/MineRLBasaltMakeWaterfall-v0/lovely-persimmon-angora-f0364807be87, nclips=1)\n",
      "  warn(f\"Skipping {str(trajectory)}\")\n",
      "Loading last frames:  33%|███▎      | 1042/3149 [00:56<01:34, 22.29it/s][mov,mp4,m4a,3gp,3g2,mj2 @ 0x559dd4561b80] moov atom not found\n",
      "/home/nollyd/Code/basalt_2022_competition_nollied/fgz/data_utils/generate_xirl_targets.py:33: UserWarning: Skipping CT(data/MineRLBasaltMakeWaterfall-v0/shabby-viridian-beaver-01cd12039ab7, nclips=2)\n",
      "  warn(f\"Skipping {str(trajectory)}\")\n",
      "Loading last frames:  46%|████▌     | 1447/3149 [01:15<01:15, 22.59it/s][mov,mp4,m4a,3gp,3g2,mj2 @ 0x559dd3afcf00] moov atom not found\n",
      "/home/nollyd/Code/basalt_2022_competition_nollied/fgz/data_utils/generate_xirl_targets.py:33: UserWarning: Skipping CT(data/MineRLBasaltMakeWaterfall-v0/sleepy-sangria-bat-93347b7367d8, nclips=1)\n",
      "  warn(f\"Skipping {str(trajectory)}\")\n",
      "Loading last frames:  73%|███████▎  | 2300/3149 [02:02<00:38, 22.00it/s][mov,mp4,m4a,3gp,3g2,mj2 @ 0x559dd46242c0] moov atom not found\n",
      "/home/nollyd/Code/basalt_2022_competition_nollied/fgz/data_utils/generate_xirl_targets.py:33: UserWarning: Skipping CT(data/MineRLBasaltMakeWaterfall-v0/squeaky-ultramarine-chihuahua-0a65499f3bd4, nclips=1)\n",
      "  warn(f\"Skipping {str(trajectory)}\")\n",
      "Loading last frames: 100%|██████████| 3149/3149 [02:45<00:00, 19.03it/s]\n"
     ]
    }
   ],
   "source": [
    "target_embedding = generate_target(config, model, dataset_path)"
   ]
  },
  {
   "cell_type": "code",
   "execution_count": 11,
   "metadata": {},
   "outputs": [
    {
     "data": {
      "text/plain": [
       "tensor([0., 0., 0.,  ..., 0., 0., 0.], dtype=torch.float64)"
      ]
     },
     "execution_count": 11,
     "metadata": {},
     "output_type": "execute_result"
    }
   ],
   "source": [
    "target_embedding"
   ]
  },
  {
   "cell_type": "code",
   "execution_count": 12,
   "metadata": {},
   "outputs": [],
   "source": [
    "import matplotlib.pyplot as plt"
   ]
  },
  {
   "cell_type": "code",
   "execution_count": 18,
   "metadata": {},
   "outputs": [
    {
     "name": "stderr",
     "output_type": "stream",
     "text": [
      "/home/nollyd/Code/basalt_2022_competition_nollied/fgz/data_utils/data_handler.py:256: UserWarning: Missing video/json path! Skipping... data/MineRLBasaltMakeWaterfall-v0/cheeky-cornflower-setter-0d5b8821ca14 [('20220720', '123734')]\n",
      "  warn(f\"Missing video/json path! Skipping... {trajectory_prefix} {sorted_date_times}\")\n",
      "/home/nollyd/Code/basalt_2022_competition_nollied/fgz/data_utils/data_handler.py:256: UserWarning: Missing video/json path! Skipping... data/MineRLBasaltMakeWaterfall-v0/lovely-persimmon-angora-06119347f21a [('20220716', '232112'), ('20220716', '232613')]\n",
      "  warn(f\"Missing video/json path! Skipping... {trajectory_prefix} {sorted_date_times}\")\n",
      "/home/nollyd/Code/basalt_2022_competition_nollied/fgz/data_utils/data_handler.py:256: UserWarning: Missing video/json path! Skipping... data/MineRLBasaltMakeWaterfall-v0/lovely-persimmon-angora-7a3f261ab2ed [('20220716', '234115')]\n",
      "  warn(f\"Missing video/json path! Skipping... {trajectory_prefix} {sorted_date_times}\")\n",
      "/home/nollyd/Code/basalt_2022_competition_nollied/fgz/data_utils/data_handler.py:256: UserWarning: Missing video/json path! Skipping... data/MineRLBasaltMakeWaterfall-v0/squeaky-ultramarine-chihuahua-9692cdbfee71 [('20220719', '172314')]\n",
      "  warn(f\"Missing video/json path! Skipping... {trajectory_prefix} {sorted_date_times}\")\n"
     ]
    }
   ],
   "source": [
    "from fgz.data_utils.data_handler import ContiguousTrajectoryDataLoader\n",
    "from fgz.data_utils.visualize_xirl import xirl_reward_over_time\n",
    "\n",
    "loader = ContiguousTrajectoryDataLoader(dataset_path)\n",
    "trajectory = loader.sample()"
   ]
  },
  {
   "cell_type": "code",
   "execution_count": 19,
   "metadata": {},
   "outputs": [
    {
     "data": {
      "text/plain": [
       "(CT(data/MineRLBasaltMakeWaterfall-v0/cheeky-cornflower-setter-5e80701c3a3e, nclips=1),\n",
       " 2147)"
      ]
     },
     "execution_count": 19,
     "metadata": {},
     "output_type": "execute_result"
    }
   ],
   "source": [
    "trajectory, len(trajectory)"
   ]
  },
  {
   "cell_type": "code",
   "execution_count": 25,
   "metadata": {},
   "outputs": [
    {
     "name": "stderr",
     "output_type": "stream",
     "text": [
      "Getting rewards:  94%|█████████▍| 63/67 [01:51<00:07,  1.77s/it]"
     ]
    },
    {
     "name": "stdout",
     "output_type": "stream",
     "text": [
      "tensor([1.2759, 1.2356, 1.3133,  ..., 0.2269, 0.2257, 0.2437],\n",
      "       dtype=torch.float64)\n"
     ]
    },
    {
     "name": "stderr",
     "output_type": "stream",
     "text": [
      "\n"
     ]
    }
   ],
   "source": [
    "rewards = xirl_reward_over_time(config, trajectory, model, target_embedding)"
   ]
  },
  {
   "cell_type": "code",
   "execution_count": 26,
   "metadata": {},
   "outputs": [
    {
     "data": {
      "text/plain": [
       "tensor([1.2759, 1.2356, 1.3133,  ..., 0.2269, 0.2257, 0.2437],\n",
       "       dtype=torch.float64)"
      ]
     },
     "execution_count": 26,
     "metadata": {},
     "output_type": "execute_result"
    }
   ],
   "source": [
    "rewards"
   ]
  },
  {
   "cell_type": "code",
   "execution_count": 28,
   "metadata": {},
   "outputs": [
    {
     "data": {
      "text/plain": [
       "CT(data/MineRLBasaltMakeWaterfall-v0/cheeky-cornflower-setter-5e80701c3a3e, nclips=1)"
      ]
     },
     "execution_count": 28,
     "metadata": {},
     "output_type": "execute_result"
    }
   ],
   "source": [
    "trajectory"
   ]
  },
  {
   "cell_type": "code",
   "execution_count": 27,
   "metadata": {},
   "outputs": [
    {
     "data": {
      "image/png": "[encoded data removed]",
      "text/plain": [
       "<Figure size 640x480 with 1 Axes>"
      ]
     },
     "metadata": {},
     "output_type": "display_data"
    }
   ],
   "source": [
    "plt.plot(rewards)\n",
    "plt.show()"
   ]
  },
  {
   "cell_type": "code",
   "execution_count": null,
   "metadata": {},
   "outputs": [],
   "source": []
  }
 ],
 "metadata": {
  "kernelspec": {
   "display_name": "Python 3.10.4 ('minerl')",
   "language": "python",
   "name": "python3"
  },
  "language_info": {
   "codemirror_mode": {
    "name": "ipython",
    "version": 3
   },
   "file_extension": ".py",
   "mimetype": "text/x-python",
   "name": "python",
   "nbconvert_exporter": "python",
   "pygments_lexer": "ipython3",
   "version": "3.10.4"
  },
  "orig_nbformat": 4,
  "vscode": {
   "interpreter": {
    "hash": "32f88b1943610b2b4002ab57fb2488113fc1952d4ac8f2580706d8ed13983308"
   }
  }
 },
 "nbformat": 4,
 "nbformat_minor": 2
}
